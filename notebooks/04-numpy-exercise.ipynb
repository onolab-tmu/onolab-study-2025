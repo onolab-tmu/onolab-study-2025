{
 "cells": [
  {
   "cell_type": "code",
   "execution_count": 1,
   "id": "adb32d4b-5f2b-41d9-bc26-a002de9f0222",
   "metadata": {},
   "outputs": [],
   "source": [
    "import numpy as np"
   ]
  },
  {
   "cell_type": "code",
   "execution_count": 2,
   "id": "b1983231-d354-462b-ba10-66cbe2017a1d",
   "metadata": {},
   "outputs": [],
   "source": [
    "N = 3\n",
    "A = np.random.rand(N, N)"
   ]
  },
  {
   "cell_type": "code",
   "execution_count": 3,
   "id": "a85f3ed9-b940-4fa6-86d3-951abe34b921",
   "metadata": {},
   "outputs": [
    {
     "data": {
      "text/plain": [
       "array([[0.88793101, 0.22660939, 0.97125898],\n",
       "       [0.59657211, 0.06505788, 0.61616713],\n",
       "       [0.79905158, 0.12917332, 0.02684613]])"
      ]
     },
     "execution_count": 3,
     "metadata": {},
     "output_type": "execute_result"
    }
   ],
   "source": [
    "A"
   ]
  },
  {
   "cell_type": "code",
   "execution_count": 4,
   "id": "4616c52e-4b2d-4da5-8878-e6a7f896112a",
   "metadata": {},
   "outputs": [],
   "source": [
    "b = np.random.rand(N)"
   ]
  },
  {
   "cell_type": "code",
   "execution_count": 5,
   "id": "134496f7-aab0-46a2-8f71-dab6dd4c4f9f",
   "metadata": {},
   "outputs": [
    {
     "data": {
      "text/plain": [
       "array([1.0208023 , 0.62709396, 0.60317252])"
      ]
     },
     "execution_count": 5,
     "metadata": {},
     "output_type": "execute_result"
    }
   ],
   "source": [
    "A @ b"
   ]
  },
  {
   "cell_type": "code",
   "execution_count": 6,
   "id": "5392cddb-8642-47d0-b906-0665a222e355",
   "metadata": {},
   "outputs": [
    {
     "data": {
      "text/plain": [
       "array([1.0208023 , 0.62709396, 0.60317252])"
      ]
     },
     "execution_count": 6,
     "metadata": {},
     "output_type": "execute_result"
    }
   ],
   "source": [
    "n = A.shape[0]\n",
    "Ab = np.zeros(n)\n",
    "for i in range(n):\n",
    "    for j in range(n):\n",
    "        Ab[i] += A[i][j] * b[j]\n",
    "Ab"
   ]
  },
  {
   "cell_type": "code",
   "execution_count": 7,
   "id": "db173a35-3a18-4d63-ba94-4c837a0a76fd",
   "metadata": {},
   "outputs": [],
   "source": [
    "B = np.random.rand(N, N)"
   ]
  },
  {
   "cell_type": "code",
   "execution_count": 8,
   "id": "0309b391-6d89-4eed-8642-03aeaf526c11",
   "metadata": {},
   "outputs": [
    {
     "data": {
      "text/plain": [
       "array([[1.00954161, 1.91056873, 0.790062  ],\n",
       "       [0.62087572, 1.16647681, 0.49937516],\n",
       "       [0.85425815, 0.89687967, 0.22954693]])"
      ]
     },
     "execution_count": 8,
     "metadata": {},
     "output_type": "execute_result"
    }
   ],
   "source": [
    "A @ B"
   ]
  },
  {
   "cell_type": "code",
   "execution_count": 9,
   "id": "38613490-1b37-4f90-9926-e4bd4b950ce8",
   "metadata": {},
   "outputs": [
    {
     "data": {
      "text/plain": [
       "array([[1.00954161, 1.91056873, 0.790062  ],\n",
       "       [0.62087572, 1.16647681, 0.49937516],\n",
       "       [0.85425815, 0.89687967, 0.22954693]])"
      ]
     },
     "execution_count": 9,
     "metadata": {},
     "output_type": "execute_result"
    }
   ],
   "source": [
    "AB = np.zeros((N, N))\n",
    "for i in range(N):\n",
    "    for j in range(N):\n",
    "        for k in range(N):\n",
    "            AB[i][j] += A[i][k] * B[k][j]\n",
    "AB"
   ]
  },
  {
   "cell_type": "code",
   "execution_count": 10,
   "id": "0076f1f3-ee5e-4747-b0ae-cfb8b81255f0",
   "metadata": {},
   "outputs": [
    {
     "data": {
      "text/plain": [
       "array([[1, 2],\n",
       "       [2, 3]])"
      ]
     },
     "execution_count": 10,
     "metadata": {},
     "output_type": "execute_result"
    }
   ],
   "source": [
    "A = np.array([[1, 2], [2, 3]])\n",
    "A"
   ]
  },
  {
   "cell_type": "code",
   "execution_count": 11,
   "id": "c8ab96ff-3f69-492c-98cb-cc9de6194c68",
   "metadata": {},
   "outputs": [
    {
     "data": {
      "text/plain": [
       "array([-0.23606798,  4.23606798])"
      ]
     },
     "execution_count": 11,
     "metadata": {},
     "output_type": "execute_result"
    }
   ],
   "source": [
    "l, v = np.linalg.eig(A)\n",
    "l"
   ]
  },
  {
   "cell_type": "code",
   "execution_count": 12,
   "id": "4bf8710a-bf78-4659-9af8-e21d95890e1f",
   "metadata": {},
   "outputs": [
    {
     "data": {
      "text/plain": [
       "np.float64(4.23606797749979)"
      ]
     },
     "execution_count": 12,
     "metadata": {},
     "output_type": "execute_result"
    }
   ],
   "source": [
    "2 + np.sqrt(5)"
   ]
  },
  {
   "cell_type": "code",
   "execution_count": 13,
   "id": "26672f18-4779-4b7b-8f91-0751fdeeb0ed",
   "metadata": {},
   "outputs": [
    {
     "data": {
      "text/plain": [
       "np.float64(-0.2360679774997898)"
      ]
     },
     "execution_count": 13,
     "metadata": {},
     "output_type": "execute_result"
    }
   ],
   "source": [
    "2 - np.sqrt(5)"
   ]
  },
  {
   "cell_type": "code",
   "execution_count": 14,
   "id": "92ee436b-dce4-47a2-8630-b1d3368e4e86",
   "metadata": {},
   "outputs": [],
   "source": [
    "import matplotlib.pyplot as plt"
   ]
  },
  {
   "cell_type": "code",
   "execution_count": 43,
   "id": "e6f20f5d-8831-4614-b6c6-e6c544c39bbe",
   "metadata": {
    "scrolled": true
   },
   "outputs": [],
   "source": [
    "x = np.array([[np.cos(np.deg2rad(theta)), np.sin(np.deg2rad(theta))] for theta in range(0, 360, 10)])\n",
    "x.shape\n",
    "Ax = np.zeros(x.shape)\n",
    "for i in range(x.shape[0]):\n",
    "    Ax[i] = A @ x[i]"
   ]
  },
  {
   "cell_type": "code",
   "execution_count": 42,
   "id": "9941d237-b3e3-4cd1-9a98-b7ee7f5762eb",
   "metadata": {},
   "outputs": [
    {
     "data": {
      "image/png": "[encoded data removed]",
      "text/plain": [
       "<Figure size 640x480 with 1 Axes>"
      ]
     },
     "metadata": {},
     "output_type": "display_data"
    }
   ],
   "source": [
    "fig, ax = plt.subplots(1, 1)\n",
    "ax.axis(\"equal\")\n",
    "ax.scatter(x.T[0, :], x.T[1, :])\n",
    "ax.scatter(Ax.T[0, :], Ax.T[1, :])\n",
    "plt.show()"
   ]
  },
  {
   "cell_type": "code",
   "execution_count": null,
   "id": "87efa334-759f-4ff2-9954-3b521d97a4bd",
   "metadata": {},
   "outputs": [],
   "source": []
  }
 ],
 "metadata": {
  "kernelspec": {
   "display_name": "Python 3 (ipykernel)",
   "language": "python",
   "name": "python3"
  },
  "language_info": {
   "codemirror_mode": {
    "name": "ipython",
    "version": 3
   },
   "file_extension": ".py",
   "mimetype": "text/x-python",
   "name": "python",
   "nbconvert_exporter": "python",
   "pygments_lexer": "ipython3",
   "version": "3.13.1"
  }
 },
 "nbformat": 4,
 "nbformat_minor": 5
}
