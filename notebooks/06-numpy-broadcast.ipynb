{
 "cells": [
  {
   "cell_type": "markdown",
   "id": "2fffae18-6f53-4696-9e1c-f363e539fbc2",
   "metadata": {},
   "source": [
    "# Numpy Broadcasting 練習\n",
    "- 参考: https://numpy.org/doc/stable/user/basics.broadcasting.html"
   ]
  },
  {
   "cell_type": "code",
   "execution_count": 1,
   "id": "9bec7104-b3df-4aa3-a785-60a5238bc74c",
   "metadata": {},
   "outputs": [],
   "source": [
    "import numpy as np"
   ]
  },
  {
   "cell_type": "code",
   "execution_count": 3,
   "id": "72c51c33-e0d2-4668-a276-56803f81fbea",
   "metadata": {},
   "outputs": [
    {
     "data": {
      "text/plain": [
       "array([ 2.,  4., 15.])"
      ]
     },
     "execution_count": 3,
     "metadata": {},
     "output_type": "execute_result"
    }
   ],
   "source": [
    "# shape が同じ場合要素ごとに同じ演算を適用する\n",
    "a = np.array([1.0, 2.0, 3.0])\n",
    "b = np.array([2.0, 2.0, 5.0])\n",
    "a * b"
   ]
  },
  {
   "cell_type": "code",
   "execution_count": 4,
   "id": "909fab89-009d-489e-8ec5-76f48dddaa92",
   "metadata": {},
   "outputs": [
    {
     "data": {
      "text/plain": [
       "np.float64(21.0)"
      ]
     },
     "execution_count": 4,
     "metadata": {},
     "output_type": "execute_result"
    }
   ],
   "source": [
    "# @演算子は例外\n",
    "a @ b"
   ]
  },
  {
   "cell_type": "code",
   "execution_count": 5,
   "id": "fcc3fb7d-b613-4ba3-ba95-d5cb22cc3a9c",
   "metadata": {},
   "outputs": [
    {
     "data": {
      "text/plain": [
       "array([2., 4., 6.])"
      ]
     },
     "execution_count": 5,
     "metadata": {},
     "output_type": "execute_result"
    }
   ],
   "source": [
    "# broadcast の例\n",
    "b = 2.0\n",
    "a * b"
   ]
  },
  {
   "cell_type": "markdown",
   "id": "4a8d62f4-eac0-40eb-9cc9-2db993da5d94",
   "metadata": {},
   "source": [
    "## General broadcasting rules\n",
    "\n",
    "2個のnumpy arrayに演算を行うとき， Numpyはそれらの形状 (shape) を比較して，\n",
    "\n",
    "1. それらが等しい，または\n",
    "2. そのうちのひとつが1\n",
    "\n",
    "のとき計算できる．それらが満たされない場合は `ValueError` が投げられる．"
   ]
  },
  {
   "cell_type": "code",
   "execution_count": 6,
   "id": "7dd9ad6c-2fa0-4407-9116-7099547c0937",
   "metadata": {},
   "outputs": [],
   "source": [
    "# 計算できる例\n",
    "a = np.array([[ 0.0,  0.0,  0.0],\n",
    "              [10.0, 10.0, 10.0],\n",
    "              [20.0, 20.0, 20.0],\n",
    "              [30.0, 30.0, 30.0]])\n",
    "b = np.array([1.0, 2.0, 3.0])"
   ]
  },
  {
   "cell_type": "code",
   "execution_count": 7,
   "id": "564bbf77-9558-4ccd-ae72-ca381135559c",
   "metadata": {},
   "outputs": [
    {
     "data": {
      "text/plain": [
       "(4, 3)"
      ]
     },
     "execution_count": 7,
     "metadata": {},
     "output_type": "execute_result"
    }
   ],
   "source": [
    "a.shape"
   ]
  },
  {
   "cell_type": "code",
   "execution_count": 8,
   "id": "be3b781f-6eb5-46e8-857d-812e8043d876",
   "metadata": {},
   "outputs": [
    {
     "data": {
      "text/plain": [
       "(3,)"
      ]
     },
     "execution_count": 8,
     "metadata": {},
     "output_type": "execute_result"
    }
   ],
   "source": [
    "b.shape"
   ]
  },
  {
   "cell_type": "code",
   "execution_count": 9,
   "id": "c42d11f6-14a8-45eb-a0de-12a1ebcc39b0",
   "metadata": {},
   "outputs": [
    {
     "data": {
      "text/plain": [
       "array([[ 1.,  2.,  3.],\n",
       "       [11., 12., 13.],\n",
       "       [21., 22., 23.],\n",
       "       [31., 32., 33.]])"
      ]
     },
     "execution_count": 9,
     "metadata": {},
     "output_type": "execute_result"
    }
   ],
   "source": [
    "# 片方の次元が足りないとき，前方に1の形状をもつ次元を足して計算される\n",
    "# (4, 3) + (3,) -> (4, 3) + (1, 3) --> (4, 3)\n",
    "# (1, 3) に変換された b は 行方向に同じ配列がコピーされる (参考ページ Figure. 2)\n",
    "a + b"
   ]
  },
  {
   "cell_type": "code",
   "execution_count": 10,
   "id": "c37134d7-f53f-4e9c-9fa5-5d61c393f7aa",
   "metadata": {},
   "outputs": [
    {
     "name": "stdout",
     "output_type": "stream",
     "text": [
      "(1, 3)\n"
     ]
    },
    {
     "data": {
      "text/plain": [
       "array([[ 1.,  2.,  3.],\n",
       "       [11., 12., 13.],\n",
       "       [21., 22., 23.],\n",
       "       [31., 32., 33.]])"
      ]
     },
     "execution_count": 10,
     "metadata": {},
     "output_type": "execute_result"
    }
   ],
   "source": [
    "# 同じ結果が得られる演算\n",
    "# None は 1 の形状をもつ次元を追加する\n",
    "print(b[None, :].shape)\n",
    "a + b[None, :]"
   ]
  },
  {
   "cell_type": "code",
   "execution_count": 11,
   "id": "bd10136a-7546-49bc-83fe-3c9ed961e1fe",
   "metadata": {},
   "outputs": [
    {
     "name": "stdout",
     "output_type": "stream",
     "text": [
      "(4, 3) (4,)\n"
     ]
    },
    {
     "ename": "ValueError",
     "evalue": "operands could not be broadcast together with shapes (4,3) (4,) ",
     "output_type": "error",
     "traceback": [
      "\u001b[31m---------------------------------------------------------------------------\u001b[39m",
      "\u001b[31mValueError\u001b[39m                                Traceback (most recent call last)",
      "\u001b[36mCell\u001b[39m\u001b[36m \u001b[39m\u001b[32mIn[11]\u001b[39m\u001b[32m, line 4\u001b[39m\n\u001b[32m      2\u001b[39m b = np.array([\u001b[32m1.0\u001b[39m, \u001b[32m2.0\u001b[39m, \u001b[32m3.0\u001b[39m, \u001b[32m4.0\u001b[39m])\n\u001b[32m      3\u001b[39m \u001b[38;5;28mprint\u001b[39m(a.shape, b.shape)\n\u001b[32m----> \u001b[39m\u001b[32m4\u001b[39m \u001b[43ma\u001b[49m\u001b[43m \u001b[49m\u001b[43m+\u001b[49m\u001b[43m \u001b[49m\u001b[43mb\u001b[49m\n",
      "\u001b[31mValueError\u001b[39m: operands could not be broadcast together with shapes (4,3) (4,) "
     ]
    }
   ],
   "source": [
    "# 計算できない例 (参考URL, Figure 3)\n",
    "# (4, 3) + (1, 4) と解釈される→計算できない\n",
    "b = np.array([1.0, 2.0, 3.0, 4.0])\n",
    "print(a.shape, b.shape)\n",
    "a + b"
   ]
  },
  {
   "cell_type": "code",
   "execution_count": 17,
   "id": "f48327d3-45fd-480f-904a-1d47ddcb72e5",
   "metadata": {},
   "outputs": [
    {
     "data": {
      "text/plain": [
       "array([[ 1.,  2.,  3.],\n",
       "       [11., 12., 13.],\n",
       "       [21., 22., 23.],\n",
       "       [31., 32., 33.]])"
      ]
     },
     "execution_count": 17,
     "metadata": {},
     "output_type": "execute_result"
    }
   ],
   "source": [
    "# 参考URL, Figure 4 の例\n",
    "# (4,) + (3,) -> 計算できない\n",
    "# np.newaxis を加えて (4, 1) + (3,) -> (4, 1) + (1, 3) --> (4, 3)\n",
    "a = np.array([0.0, 10.0, 20.0, 30.0])\n",
    "b = np.array([1.0, 2.0, 3.0])\n",
    "a[:, np.newaxis] + b"
   ]
  },
  {
   "cell_type": "code",
   "execution_count": 18,
   "id": "8d63eea6-61c2-4577-8fed-48283529be34",
   "metadata": {},
   "outputs": [
    {
     "data": {
      "text/plain": [
       "(4,)"
      ]
     },
     "execution_count": 18,
     "metadata": {},
     "output_type": "execute_result"
    }
   ],
   "source": [
    "a.shape"
   ]
  },
  {
   "cell_type": "code",
   "execution_count": 19,
   "id": "fb824acf-4a04-419c-9c4a-fb333ad5a698",
   "metadata": {},
   "outputs": [
    {
     "data": {
      "text/plain": [
       "(3,)"
      ]
     },
     "execution_count": 19,
     "metadata": {},
     "output_type": "execute_result"
    }
   ],
   "source": [
    "b.shape"
   ]
  },
  {
   "cell_type": "code",
   "execution_count": 20,
   "id": "c0911ffa-f1c7-4c81-accc-121bf3815ceb",
   "metadata": {},
   "outputs": [
    {
     "data": {
      "text/plain": [
       "(4, 1)"
      ]
     },
     "execution_count": 20,
     "metadata": {},
     "output_type": "execute_result"
    }
   ],
   "source": [
    "a[:, np.newaxis].shape"
   ]
  },
  {
   "cell_type": "code",
   "execution_count": 16,
   "id": "29853699-b79e-4cd6-8da2-454284b49e9d",
   "metadata": {},
   "outputs": [
    {
     "data": {
      "text/plain": [
       "(4, 1)"
      ]
     },
     "execution_count": 16,
     "metadata": {},
     "output_type": "execute_result"
    }
   ],
   "source": [
    "a[:, None].shape"
   ]
  },
  {
   "cell_type": "code",
   "execution_count": 21,
   "id": "084c92d9-d91c-4db9-a788-1ad0c3fed9fc",
   "metadata": {},
   "outputs": [],
   "source": [
    "N = 10000\n",
    "M = 5000\n",
    "a = np.random.randn(N)\n",
    "b = np.random.randn(M)"
   ]
  },
  {
   "cell_type": "code",
   "execution_count": 29,
   "id": "3536310d-f8f3-4a85-aa37-7c2b90d18ab8",
   "metadata": {},
   "outputs": [],
   "source": [
    "import time"
   ]
  },
  {
   "cell_type": "code",
   "execution_count": 30,
   "id": "c7966256-144d-497a-8d27-b8703aa6cd57",
   "metadata": {},
   "outputs": [
    {
     "name": "stdout",
     "output_type": "stream",
     "text": [
      "7.2049641609191895\n"
     ]
    }
   ],
   "source": [
    "# a, b を使って Figure 4 と同じような演算をしてみる\n",
    "# broadcast を使わない書き方（めちゃ遅い）\n",
    "t0 = time.time()\n",
    "c = np.zeros((N, M))\n",
    "for i in range(N):\n",
    "    for j in range(M):\n",
    "        c[i, j] = a[i] + b[j]\n",
    "t1 = time.time()\n",
    "print(t1 - t0)"
   ]
  },
  {
   "cell_type": "code",
   "execution_count": 32,
   "id": "3fcf35ce-7b19-4b34-bc00-761348b51773",
   "metadata": {},
   "outputs": [
    {
     "name": "stdout",
     "output_type": "stream",
     "text": [
      "0.06542110443115234\n"
     ]
    }
   ],
   "source": [
    "# broadcast を使う書き方（めっぽう速い）\n",
    "t0 = time.time()\n",
    "c2 = a[:, None] + b\n",
    "t1 = time.time()\n",
    "print(t1 - t0)"
   ]
  },
  {
   "cell_type": "code",
   "execution_count": 26,
   "id": "0b49fa74-0818-4a57-b13b-d0b4c36ef205",
   "metadata": {},
   "outputs": [
    {
     "data": {
      "text/plain": [
       "array([[-1.19088703, -0.45151388,  0.86075422,  2.43865881,  0.59205539],\n",
       "       [-2.27923273, -1.53985959, -0.22759149,  1.35031311, -0.49629031],\n",
       "       [-2.38685837, -1.64748522, -0.33521712,  1.24268747, -0.60391595],\n",
       "       [-0.45687291,  0.28250023,  1.59476833,  3.17267293,  1.32606951],\n",
       "       [-2.23683886, -1.49746571, -0.18519761,  1.39270699, -0.45389644]])"
      ]
     },
     "execution_count": 26,
     "metadata": {},
     "output_type": "execute_result"
    }
   ],
   "source": [
    "c[:5, :5]"
   ]
  },
  {
   "cell_type": "code",
   "execution_count": 27,
   "id": "273193ca-e45a-4fe2-8290-0909ac21523e",
   "metadata": {},
   "outputs": [
    {
     "data": {
      "text/plain": [
       "array([[-1.19088703, -0.45151388,  0.86075422,  2.43865881,  0.59205539],\n",
       "       [-2.27923273, -1.53985959, -0.22759149,  1.35031311, -0.49629031],\n",
       "       [-2.38685837, -1.64748522, -0.33521712,  1.24268747, -0.60391595],\n",
       "       [-0.45687291,  0.28250023,  1.59476833,  3.17267293,  1.32606951],\n",
       "       [-2.23683886, -1.49746571, -0.18519761,  1.39270699, -0.45389644]])"
      ]
     },
     "execution_count": 27,
     "metadata": {},
     "output_type": "execute_result"
    }
   ],
   "source": [
    "c2[:5, :5]"
   ]
  }
 ],
 "metadata": {
  "kernelspec": {
   "display_name": "Python 3 (ipykernel)",
   "language": "python",
   "name": "python3"
  },
  "language_info": {
   "codemirror_mode": {
    "name": "ipython",
    "version": 3
   },
   "file_extension": ".py",
   "mimetype": "text/x-python",
   "name": "python",
   "nbconvert_exporter": "python",
   "pygments_lexer": "ipython3",
   "version": "3.13.1"
  }
 },
 "nbformat": 4,
 "nbformat_minor": 5
}
