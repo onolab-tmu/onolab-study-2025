{
 "cells": [
  {
   "cell_type": "markdown",
   "id": "19f87887-8de7-479a-a4c9-aa5bcb380051",
   "metadata": {},
   "source": [
    "## 行列・ベクトル演算"
   ]
  },
  {
   "cell_type": "markdown",
   "id": "4c33f271-df82-4323-b231-72ee7a31136d",
   "metadata": {},
   "source": [
    "### ノートブックの起動\n",
    "\n",
    "```bash\n",
    "uv run --with \"jupyter,matplotlib,numpy,soundfile\" jupyter lab\n",
    "```"
   ]
  },
  {
   "cell_type": "code",
   "execution_count": 1,
   "id": "7486905f-7693-44ad-a7c1-be88cb23d26a",
   "metadata": {},
   "outputs": [],
   "source": [
    "import numpy as np\n",
    "import matplotlib.pyplot as plt\n",
    "import soundfile as sf\n",
    "import timeit"
   ]
  },
  {
   "cell_type": "markdown",
   "id": "f17da057-722b-4427-9d46-69a10056dae3",
   "metadata": {},
   "source": [
    "$$\n",
    "\\boldsymbol{x} ^{\\mathsf{H}} \\boldsymbol{y} = \\sum _{i=1} ^{N} x _{i} ^{\\ast} y _{i}\n",
    "$$"
   ]
  },
  {
   "cell_type": "code",
   "execution_count": 2,
   "id": "11d390e4-a865-4830-8e34-150072855aba",
   "metadata": {},
   "outputs": [],
   "source": [
    "N = 100\n",
    "x = np.random.rand(N) + 1j * np.random.rand(N)\n",
    "y = np.random.rand(N) + 1j * np.random.rand(N)"
   ]
  },
  {
   "cell_type": "code",
   "execution_count": 3,
   "id": "24220c03-46bb-4189-a20e-ee8787facc92",
   "metadata": {},
   "outputs": [
    {
     "name": "stdout",
     "output_type": "stream",
     "text": [
      "39.9 μs ± 789 ns per loop (mean ± std. dev. of 7 runs, 10,000 loops each)\n"
     ]
    }
   ],
   "source": [
    "%%timeit\n",
    "z = 0\n",
    "for i in range(N):\n",
    "    z += np.conj(x[i]) * y[i]"
   ]
  },
  {
   "cell_type": "code",
   "execution_count": 4,
   "id": "076a3a18-9536-4923-8e87-9a8c8ccf666d",
   "metadata": {},
   "outputs": [
    {
     "name": "stdout",
     "output_type": "stream",
     "text": [
      "684 ns ± 17.2 ns per loop (mean ± std. dev. of 7 runs, 1,000,000 loops each)\n"
     ]
    }
   ],
   "source": [
    "%%timeit\n",
    "z2 = np.conj(x) @ y"
   ]
  },
  {
   "cell_type": "code",
   "execution_count": 7,
   "id": "80910573-a324-4a85-b538-53d68ccb1c9c",
   "metadata": {},
   "outputs": [
    {
     "name": "stdout",
     "output_type": "stream",
     "text": [
      "(50.14326550805943-0.9377950722536003j) (50.1432655080594-0.9377950722535999j)\n"
     ]
    }
   ],
   "source": [
    "z = 0\n",
    "for i in range(N):\n",
    "    z += np.conj(x[i]) * y[i]\n",
    "z2 = np.conj(x) @ y\n",
    "print(z, z2)"
   ]
  },
  {
   "cell_type": "markdown",
   "id": "cab52dfd-0f42-4329-9ad5-0a65aa992b3b",
   "metadata": {},
   "source": [
    "$$\n",
    "\\boldsymbol{x} \\boldsymbol{y} ^{\\mathsf{H}} = Z \\quad\n",
    "z _{ij} = x_i y_j ^{\\ast}\n",
    "$$"
   ]
  },
  {
   "cell_type": "code",
   "execution_count": 8,
   "id": "be8afb77-4faa-4478-88f9-133ae9507281",
   "metadata": {},
   "outputs": [
    {
     "name": "stdout",
     "output_type": "stream",
     "text": [
      "4.13 ms ± 32.6 μs per loop (mean ± std. dev. of 7 runs, 100 loops each)\n"
     ]
    }
   ],
   "source": [
    "%%timeit\n",
    "Z = np.zeros((N, N), dtype=x.dtype)\n",
    "for i in range(N):\n",
    "    for j in range(N):\n",
    "        Z[i, j] = x[i] * np.conj(y[j])"
   ]
  },
  {
   "cell_type": "code",
   "execution_count": 9,
   "id": "49904543-bbfe-4fe1-953d-a6c79a7a0334",
   "metadata": {},
   "outputs": [
    {
     "data": {
      "text/plain": [
       "(100,)"
      ]
     },
     "execution_count": 9,
     "metadata": {},
     "output_type": "execute_result"
    }
   ],
   "source": [
    "x.shape"
   ]
  },
  {
   "cell_type": "code",
   "execution_count": 10,
   "id": "4aa62331-9280-4187-877a-85167e5e4b55",
   "metadata": {},
   "outputs": [
    {
     "data": {
      "text/plain": [
       "(100, 1)"
      ]
     },
     "execution_count": 10,
     "metadata": {},
     "output_type": "execute_result"
    }
   ],
   "source": [
    "x[:, None].shape"
   ]
  },
  {
   "cell_type": "code",
   "execution_count": 13,
   "id": "8a458c62-19c4-4f5d-afbc-4c42ae9e0711",
   "metadata": {},
   "outputs": [
    {
     "name": "stdout",
     "output_type": "stream",
     "text": [
      "None\n"
     ]
    }
   ],
   "source": [
    "print(np.newaxis)"
   ]
  },
  {
   "cell_type": "code",
   "execution_count": 11,
   "id": "bb9ea8b9-a2fd-437a-a88b-1c03c32eb839",
   "metadata": {},
   "outputs": [
    {
     "name": "stdout",
     "output_type": "stream",
     "text": [
      "10.7 μs ± 114 ns per loop (mean ± std. dev. of 7 runs, 100,000 loops each)\n"
     ]
    }
   ],
   "source": [
    "%%timeit\n",
    "Z2 = x[:, None] * np.conj(y[None, :])\n",
    "# Z2 = x[:, None] * np.conj(y[:, None].T)"
   ]
  },
  {
   "cell_type": "code",
   "execution_count": 15,
   "id": "3438d7db-5a6e-4b45-aae2-75e98d1790b7",
   "metadata": {},
   "outputs": [
    {
     "name": "stdout",
     "output_type": "stream",
     "text": [
      "True\n"
     ]
    }
   ],
   "source": [
    "Z = np.zeros((N, N), dtype=x.dtype)\n",
    "for i in range(N):\n",
    "    for j in range(N):\n",
    "        Z[i, j] = x[i] * np.conj(y[j])\n",
    "Z2 = x[:, None] * np.conj(y[None, :])\n",
    "print(np.allclose(Z, Z2))"
   ]
  },
  {
   "cell_type": "markdown",
   "id": "bffabb93-6245-44ef-850f-d0945e9b33e9",
   "metadata": {},
   "source": [
    "$$\n",
    "A \\boldsymbol{x} = \\boldsymbol{y} \\quad y_i \\sum _{j=1} ^{N} a_{ij} x_{j}\n",
    "$$"
   ]
  },
  {
   "cell_type": "code",
   "execution_count": 18,
   "id": "2aa4208f-0243-441d-bfd2-22da9ecc86a3",
   "metadata": {},
   "outputs": [],
   "source": [
    "A = np.random.rand(N, N)"
   ]
  },
  {
   "cell_type": "code",
   "execution_count": 19,
   "id": "acc2bb7d-c623-4762-a078-7cb22beb6667",
   "metadata": {},
   "outputs": [
    {
     "name": "stdout",
     "output_type": "stream",
     "text": [
      "2.27 ms ± 45.8 μs per loop (mean ± std. dev. of 7 runs, 100 loops each)\n"
     ]
    }
   ],
   "source": [
    "%%timeit\n",
    "y = np.zeros(N, dtype=x.dtype)\n",
    "for i in range(N):\n",
    "    for j in range(N):\n",
    "        y[i] += A[i, j] * x[j]"
   ]
  },
  {
   "cell_type": "code",
   "execution_count": 20,
   "id": "c17afa5c-11f6-4106-b2a3-86869008e076",
   "metadata": {},
   "outputs": [
    {
     "name": "stdout",
     "output_type": "stream",
     "text": [
      "12.2 μs ± 66.6 ns per loop (mean ± std. dev. of 7 runs, 100,000 loops each)\n"
     ]
    }
   ],
   "source": [
    "%%timeit\n",
    "y = A @ x"
   ]
  },
  {
   "cell_type": "code",
   "execution_count": 21,
   "id": "f5fb1138-b4ae-487c-9c1f-676b1c1125e1",
   "metadata": {},
   "outputs": [
    {
     "name": "stdout",
     "output_type": "stream",
     "text": [
      "True\n"
     ]
    }
   ],
   "source": [
    "y = np.zeros(N, dtype=x.dtype)\n",
    "for i in range(N):\n",
    "    for j in range(N):\n",
    "        y[i] += A[i, j] * x[j]\n",
    "y2 = A @ x\n",
    "print(np.allclose(y, y2))"
   ]
  },
  {
   "cell_type": "markdown",
   "id": "d4166f90-f07d-4cb7-87fc-44a65a4951bb",
   "metadata": {},
   "source": [
    "$\\boldsymbol{x} ^{\\mathsf{H}} A \\boldsymbol{x}$"
   ]
  },
  {
   "cell_type": "code",
   "execution_count": null,
   "id": "d8532d51-8a0c-45a1-9b77-6c4f8030d988",
   "metadata": {},
   "outputs": [],
   "source": []
  },
  {
   "cell_type": "markdown",
   "id": "36380e7c-a918-476d-a93d-e03e432c33b9",
   "metadata": {},
   "source": [
    "- $A B$\n",
    "- $C \\coloneqq AB$\n",
    "- $c _{ij} = \\sum _{k} a_{ik} b_{kj}\\quad (i, j = 1, \\dots, N)$\n",
    "- $\\mathcal{O}(N^3)$"
   ]
  },
  {
   "cell_type": "code",
   "execution_count": 22,
   "id": "47d2deff-8a25-4537-9d74-ea188ea5873f",
   "metadata": {},
   "outputs": [],
   "source": [
    "A = np.random.rand(N, N)\n",
    "B = np.random.rand(N, N)"
   ]
  },
  {
   "cell_type": "code",
   "execution_count": 25,
   "id": "d64f958e-045c-49ed-8793-e35cf3701c1e",
   "metadata": {},
   "outputs": [
    {
     "name": "stdout",
     "output_type": "stream",
     "text": [
      "208 ms ± 6.14 ms per loop (mean ± std. dev. of 7 runs, 1 loop each)\n"
     ]
    }
   ],
   "source": [
    "%%timeit\n",
    "C = np.zeros_like(A)  # A と同じ形状・型のゼロ行列\n",
    "for i in range(N):\n",
    "    for j in range(N):\n",
    "         for k in range(N):\n",
    "             C[i, j] += A[i, k] * B[k, j]"
   ]
  },
  {
   "cell_type": "code",
   "execution_count": 26,
   "id": "3c3e7ecc-6943-48f2-a883-5404b09ca57b",
   "metadata": {},
   "outputs": [
    {
     "name": "stdout",
     "output_type": "stream",
     "text": [
      "9.1 μs ± 96.5 ns per loop (mean ± std. dev. of 7 runs, 100,000 loops each)\n"
     ]
    }
   ],
   "source": [
    "%%timeit\n",
    "C = A @ B"
   ]
  },
  {
   "cell_type": "code",
   "execution_count": 5,
   "id": "b69831cc-22cd-4ec3-a3d1-992541fc53e7",
   "metadata": {},
   "outputs": [
    {
     "data": {
      "text/plain": [
       "[<matplotlib.lines.Line2D at 0x11538f890>]"
      ]
     },
     "execution_count": 5,
     "metadata": {},
     "output_type": "execute_result"
    },
    {
     "data": {
      "image/png": "[encoded data removed]",
      "text/plain": [
       "<Figure size 640x480 with 1 Axes>"
      ]
     },
     "metadata": {},
     "output_type": "display_data"
    }
   ],
   "source": [
    "# 白色雑音 + 正弦波\n",
    "fs = 16000\n",
    "duration = 3\n",
    "n_samples = duration * fs\n",
    "x = np.random.normal(loc=0.0, scale=1.0, size=n_samples)\n",
    "x /= np.max(np.abs(x))\n",
    "plt.plot(x)"
   ]
  },
  {
   "cell_type": "code",
   "execution_count": null,
   "id": "1344626d-7556-41dc-9717-8ee088372f36",
   "metadata": {},
   "outputs": [],
   "source": []
  }
 ],
 "metadata": {
  "kernelspec": {
   "display_name": "Python 3 (ipykernel)",
   "language": "python",
   "name": "python3"
  },
  "language_info": {
   "codemirror_mode": {
    "name": "ipython",
    "version": 3
   },
   "file_extension": ".py",
   "mimetype": "text/x-python",
   "name": "python",
   "nbconvert_exporter": "python",
   "pygments_lexer": "ipython3",
   "version": "3.13.1"
  }
 },
 "nbformat": 4,
 "nbformat_minor": 5
}
